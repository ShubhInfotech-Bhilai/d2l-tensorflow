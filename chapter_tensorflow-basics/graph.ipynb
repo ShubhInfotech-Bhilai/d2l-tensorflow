{
 "cells": [
  {
   "cell_type": "markdown",
   "metadata": {},
   "source": [
    "## Tensorflow程序主要包括两个阶段: 1. 定义计算图中的所有计算; 2. 执行计算(会话)。"
   ]
  },
  {
   "cell_type": "markdown",
   "metadata": {},
   "source": [
    "### 在tensorflow程序中，系统会自动维护一个默认的计算图\n",
    "\n",
    "### 通过 tf.get_default_graph 函数来获取当前默认的计算图。"
   ]
  },
  {
   "cell_type": "code",
   "execution_count": 2,
   "metadata": {},
   "outputs": [
    {
     "name": "stdout",
     "output_type": "stream",
     "text": [
      "WARNING:tensorflow:From /Users/douwentao/anaconda3/envs/tensorflow/lib/python3.7/site-packages/tensorflow/python/framework/op_def_library.py:263: colocate_with (from tensorflow.python.framework.ops) is deprecated and will be removed in a future version.\n",
      "Instructions for updating:\n",
      "Colocations handled automatically by placer.\n",
      "True\n"
     ]
    }
   ],
   "source": [
    "import tensorflow as tf\n",
    "\n",
    "v = tf.get_variable(name=\"v\", shape=[1], initializer=tf.zeros_initializer)\n",
    "\n",
    "print(v.graph is tf.get_default_graph())"
   ]
  },
  {
   "cell_type": "markdown",
   "metadata": {},
   "source": [
    "### 生成计算图的方法"
   ]
  },
  {
   "cell_type": "code",
   "execution_count": 3,
   "metadata": {},
   "outputs": [
    {
     "name": "stdout",
     "output_type": "stream",
     "text": [
      "True\n"
     ]
    }
   ],
   "source": [
    "g = tf.Graph() # tf.Graph()函数生成计算图\n",
    "# 在该计算图下定义变量及计算\n",
    "with g.as_default():\n",
    "    v = tf.get_variable(name=\"v\", shape=[1], initializer=tf.zeros_initializer)\n",
    "print(v.graph is g)"
   ]
  },
  {
   "cell_type": "markdown",
   "metadata": {},
   "source": [
    "### 获取计算图中变量"
   ]
  },
  {
   "cell_type": "code",
   "execution_count": 6,
   "metadata": {},
   "outputs": [
    {
     "name": "stdout",
     "output_type": "stream",
     "text": [
      "[0.]\n"
     ]
    }
   ],
   "source": [
    "with tf.Session(graph=g) as sess:\n",
    "    sess.run(tf.global_variables_initializer())\n",
    "    with tf.variable_scope(\"\", reuse=True):\n",
    "        print(sess.run(tf.get_variable(\"v\")))"
   ]
  },
  {
   "cell_type": "markdown",
   "metadata": {},
   "source": [
    "### 将计算图运行在指定的设备"
   ]
  },
  {
   "cell_type": "code",
   "execution_count": 17,
   "metadata": {},
   "outputs": [
    {
     "name": "stdout",
     "output_type": "stream",
     "text": [
      "[3. 6. 9.]\n",
      "True\n"
     ]
    }
   ],
   "source": [
    "g1 = tf.Graph()\n",
    "with g1.as_default():\n",
    "    a = tf.constant([1., 2., 3.], name=\"a\", dtype=tf.float32)\n",
    "    b = 2 * a\n",
    "with g1.device(\"/cpu:0\"):\n",
    "    result = a + b\n",
    "with tf.Session(graph=g1) as sess:\n",
    "    print(sess.run(result))\n",
    "    print(result.graph is g1)"
   ]
  },
  {
   "cell_type": "markdown",
   "metadata": {},
   "source": [
    "### 在一个计算图中，可以通过集合(collection)来管理不同类别的资源\n",
    "\n",
    "### tf.add_to_collection()将资源加入一个或多个集合中\n",
    "\n",
    "### tf.get_collection()获取一个集合里面所有的资源\n",
    "\n",
    "### 其中，\"资源\"指的是张量、变量或者队列资源等\n",
    "\n",
    "### Tensorflow中自动维护的集合列表：\n",
    "\n",
    "### tf.GraphKeys.VARIABLES  -->  所有变量\n",
    "\n",
    "### tf.GraphKeys.TRAINABLE_VARIABLES  -->  可学习的变量（在定义变量时, 将参数trainable设置为True）\n",
    "\n",
    "### tf.GraphKeys.SUMMARIES  -->  日志生成相关的张量\n",
    "\n",
    "### tf.GraphKeys.QUEUE_RUNNERS  -->  处理输入的QueueRunner\n",
    "\n",
    "### tf.GraphKeys.MOVING_AVERAGE_VARIABLES --> 所有计算了滑动平均值的变量"
   ]
  },
  {
   "cell_type": "code",
   "execution_count": 33,
   "metadata": {},
   "outputs": [
    {
     "data": {
      "text/plain": [
       "<tf.Variable 'v:0' shape=(1,) dtype=float32_ref>"
      ]
     },
     "execution_count": 33,
     "metadata": {},
     "output_type": "execute_result"
    }
   ],
   "source": [
    "tf.get_collection(tf.GraphKeys.VARIABLES) #获取变量集合"
   ]
  },
  {
   "cell_type": "markdown",
   "metadata": {},
   "source": [
    "### collection常用于管理损失"
   ]
  },
  {
   "cell_type": "code",
   "execution_count": 34,
   "metadata": {},
   "outputs": [
    {
     "name": "stdout",
     "output_type": "stream",
     "text": [
      "[0.5, 3.17]\n",
      "3.67\n"
     ]
    }
   ],
   "source": [
    "x1 = tf.constant(1.0)\n",
    "l1 = tf.nn.l2_loss(x1) # 第一部分损失\n",
    "x2 = tf.constant([2.5, -0.3])\n",
    "l2 = tf.nn.l2_loss(x2) # 第二部分损失\n",
    "# 手动添加到集合\n",
    "tf.add_to_collection(\"losses\", l1)\n",
    "tf.add_to_collection(\"losses\", l2)\n",
    "losses = tf.get_collection(\"losses\")\n",
    "# 计算总体损失\n",
    "loss_total = tf.add_n(losses)\n",
    "\n",
    "with tf.Session() as sess:\n",
    "    sess.run(tf.global_variables_initializer())\n",
    "    print(sess.run(losses))\n",
    "    print(sess.run(loss_total))"
   ]
  },
  {
   "cell_type": "code",
   "execution_count": null,
   "metadata": {},
   "outputs": [],
   "source": []
  }
 ],
 "metadata": {
  "kernelspec": {
   "display_name": "Python 3",
   "language": "python",
   "name": "python3"
  },
  "language_info": {
   "codemirror_mode": {
    "name": "ipython",
    "version": 3
   },
   "file_extension": ".py",
   "mimetype": "text/x-python",
   "name": "python",
   "nbconvert_exporter": "python",
   "pygments_lexer": "ipython3",
   "version": "3.7.3"
  }
 },
 "nbformat": 4,
 "nbformat_minor": 2
}
