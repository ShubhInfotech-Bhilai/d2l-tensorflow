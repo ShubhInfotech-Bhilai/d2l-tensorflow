{
 "cells": [
  {
   "cell_type": "markdown",
   "metadata": {},
   "source": [
    "### Tensorflow 提供了通过变量名称来创建或获取一个变量的机制，通过这个机制，在不同的函数中可以直接通过变量的名\n",
    "\n",
    "### 字来使用变量，而不需要通过函数参数来进行传递。主要利用两个函数 :\n",
    "\n",
    "###                                   tf.get_variable()    和    tf.variable_scope()  函数"
   ]
  },
  {
   "cell_type": "code",
   "execution_count": 2,
   "metadata": {},
   "outputs": [
    {
     "name": "stdout",
     "output_type": "stream",
     "text": [
      "WARNING:tensorflow:From /Users/douwentao/anaconda3/envs/tensorflow/lib/python3.7/site-packages/tensorflow/python/framework/op_def_library.py:263: colocate_with (from tensorflow.python.framework.ops) is deprecated and will be removed in a future version.\n",
      "Instructions for updating:\n",
      "Colocations handled automatically by placer.\n"
     ]
    }
   ],
   "source": [
    "import tensorflow as tf\n",
    "\n",
    "v = tf.get_variable(name=\"v\", shape=[1], initializer=tf.constant_initializer(1.0))"
   ]
  },
  {
   "cell_type": "markdown",
   "metadata": {},
   "source": [
    "### 初始化函数主要包括\n",
    "\n",
    "### tf.constant_initializer()\n",
    "\n",
    "### tf.random_normal_initializer()\n",
    "\n",
    "### tf.truncated_normal_initializer()\n",
    "\n",
    "### tf.random_uniform_initializer()\n",
    "\n",
    "### tf.zeros_initializer()\n",
    "\n",
    "### tf.ones_initializer()"
   ]
  },
  {
   "cell_type": "markdown",
   "metadata": {},
   "source": [
    "###  **tf.get_variable() 函数可以获取 或者 创建具有变量名称的变量， tf.variable_scope() 函数来创建变量上下文管理器"
   ]
  },
  {
   "cell_type": "markdown",
   "metadata": {},
   "source": [
    "### 1. 在example中创建 变量名为v 的变量"
   ]
  },
  {
   "cell_type": "code",
   "execution_count": null,
   "metadata": {},
   "outputs": [],
   "source": [
    "with tf.variable_scope(\"example\"):\n",
    "    v = tf.get_variable(name=\"v\", shape=[1], initializer=tf.constant_initializer(1.0))"
   ]
  },
  {
   "cell_type": "markdown",
   "metadata": {},
   "source": [
    "### 2. 由于在example上下文中，已经定义了变量v，无法重新创建,所以会报错"
   ]
  },
  {
   "cell_type": "code",
   "execution_count": null,
   "metadata": {},
   "outputs": [],
   "source": [
    "with tf.variable_scope(\"example\"):\n",
    "    v = tf.get_variable(name=\"v\")"
   ]
  },
  {
   "cell_type": "markdown",
   "metadata": {},
   "source": [
    "### 3. 在创建的上下文管理器中，声明变量是可以reuse的，这时候，可以通过get_variable函数来获得对应变量名的变量"
   ]
  },
  {
   "cell_type": "code",
   "execution_count": null,
   "metadata": {},
   "outputs": [],
   "source": [
    "with tf.variable_scope(\"example\", reuse=True):\n",
    "    v = tf.get_variable(\"v\")"
   ]
  },
  {
   "cell_type": "markdown",
   "metadata": {},
   "source": [
    "### 4. 由于在上下文管理器中，设定了reuse为True，所以此时get_variable的作用是获得该上下文中的对应名称为\"v\"的变量\n",
    "### 在该another_example上下文中，没有变量\"v\"的存在，所以会报错找不到该变量"
   ]
  },
  {
   "cell_type": "code",
   "execution_count": null,
   "metadata": {},
   "outputs": [],
   "source": [
    "with tf.variable_scope(\"another_example\", reuse=True):\n",
    "    v = tf.get_variable(name=\"v\", shape=[1], initializer=tf.constant_initializer(1.0))"
   ]
  },
  {
   "cell_type": "markdown",
   "metadata": {},
   "source": [
    "### 所以在写神经网络的前向传播函数的时候，训练时需将reuse设置为False, 使用训练好的模型进行推导时，将reuse设置为True"
   ]
  },
  {
   "cell_type": "markdown",
   "metadata": {},
   "source": [
    "### tensorflow 中name_scope 与 variable_scope功能相似，但是name_scope只对tf.Variable()创建的变量产生作用，variable_scope对tf.Variable()与tf.get_variable()创建的变量均产生作用\n",
    "\n",
    "### 如下例子，使用命名空间name_scope，var1的命名带有命名空间的域名，而var的命名没有命名空间的域名"
   ]
  },
  {
   "cell_type": "code",
   "execution_count": 7,
   "metadata": {},
   "outputs": [
    {
     "name": "stdout",
     "output_type": "stream",
     "text": [
      "var:0\n",
      "name_scope/var1:0\n"
     ]
    }
   ],
   "source": [
    "with tf.name_scope(\"name_scope\"):\n",
    "    var = tf.get_variable(name=\"var\", shape=[1], initializer=tf.constant_initializer(1.0))\n",
    "    var1 = tf.Variable(tf.random_normal([1]), name=\"var1\")\n",
    "    print(var.name)\n",
    "    print(var1.name)"
   ]
  }
 ],
 "metadata": {
  "kernelspec": {
   "display_name": "Python 3",
   "language": "python",
   "name": "python3"
  },
  "language_info": {
   "codemirror_mode": {
    "name": "ipython",
    "version": 3
   },
   "file_extension": ".py",
   "mimetype": "text/x-python",
   "name": "python",
   "nbconvert_exporter": "python",
   "pygments_lexer": "ipython3",
   "version": "3.7.3"
  }
 },
 "nbformat": 4,
 "nbformat_minor": 2
}
