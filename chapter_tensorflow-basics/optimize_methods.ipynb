{
 "cells": [
  {
   "cell_type": "markdown",
   "metadata": {},
   "source": [
    "### Tensorflow 提供了一种学习率指数级衰减的方法:\n",
    "\n",
    "### decayed_learning_rate = learning_rate * decay_rate ^ (global_step / decay_step)\n",
    "\n",
    "### 其中learning_rate为初始学习率，decay_rate为衰减系数, decay_step为衰减速度\n",
    "\n",
    "### 该方法对应的函数为tf.train.exponential_decay(), 其中包含staircase参数，当该参数为True时, global_step/decay_step会被转化为整数，此时一般将decay_step设置为 (训练样本总数/每个批次的样本数)，代表每经过一个完整的训练数据，学习率会有一次衰减；当staircase设置为False的时候，global_step/decay_step为连续的浮点数，此时不同的训练数据将会产生不同的学习率，当学习率减小的时候，样本对于模型的训练结果的影响也就会越小。"
   ]
  },
  {
   "cell_type": "code",
   "execution_count": null,
   "metadata": {},
   "outputs": [],
   "source": [
    "import tensorflow as tf\n",
    "\n",
    "global_step = tf.Variable(0)\n",
    "\n",
    "learning_rate = tf.train.exponential_decay(\n",
    "    learning_rate=0.1,\n",
    "    global_step=global_step,\n",
    "    decay_steps=100,\n",
    "    decay_rate=0.96,\n",
    "    staircase=True)\n",
    "\n",
    "train_op = tf.train.GradientDescentOptimizer(learning_rate).minimize(loss, global_step=global_step)"
   ]
  },
  {
   "cell_type": "markdown",
   "metadata": {},
   "source": [
    "### 正则化"
   ]
  },
  {
   "cell_type": "code",
   "execution_count": null,
   "metadata": {},
   "outputs": [],
   "source": [
    "import tensorflow as tf\n",
    "\n",
    "def get_weight(shape, l):\n",
    "    var = tf.Variable(tf.random_normal(shape), dtype=tf.float32)\n",
    "    tf.add_to_collection('losses', tf.contrib.layers.l2_regularizer(l)(var))\n",
    "    return var\n",
    "\n",
    "\n",
    "layer_dimension = [2, 10, 3]\n",
    "\n",
    "for i in range(1, layer_dimension)"
   ]
  },
  {
   "cell_type": "markdown",
   "metadata": {},
   "source": [
    "### 滑动平均"
   ]
  },
  {
   "cell_type": "markdown",
   "metadata": {},
   "source": [
    "### tf.train.ExponentialMovingAverage实现了滑动平均模型，其对于每个变量都会维护一个影子变量，影子变量的初始值等于该变量的初始值，当该变量的值更新的时候， 其对应的影子变量也会更新:\n",
    "\n",
    "### shadow_variable = decay * shadow_variable + (1 - decay) * variable\n",
    "\n",
    "### 从中可以看出，decay(衰减率)越大，模型越稳定\n",
    "\n",
    "### 一般在训练的前期，模型的更新速度需要快，所以decay应该较小，训练后期模型的更新速度需要变慢，即decay应该较大\n",
    "\n",
    "### decay = min {init_decay, (1 + num_updates)/(10 + num_updates)}      (ExponentialMovingAverage利用该式控制衰减率的变化)"
   ]
  },
  {
   "cell_type": "code",
   "execution_count": null,
   "metadata": {},
   "outputs": [],
   "source": [
    "# 定义需要滑动平均的变量与num_updates\n",
    "import tensorflow as tf\n",
    "v = tf.Variable(0, dtype=tf.float32)\n",
    "step = tf.Variable(0, trainable=False)\n",
    "\n",
    "# 声明滑动平均模型对象\n",
    "ema = tf.train.ExponentialMovingAverage(0.99, step)\n",
    "# 定义更新变量的滑动平均操作\n",
    "maintain_averages_op = ema.apply([v])\n",
    "\n",
    "with tf.Session() as sess:\n",
    "    sess.run(tf.global_variables_initializer())\n",
    "    # 将变量v由0更新到5\n",
    "    sess.run(tf.assign(v, 5))\n",
    "    # 获取变量的滑动平均值（也就是其影子变量的值）\n",
    "    # 首先其衰减率为: min{0.99, (1+step)/(10+step)}=0.1, 初始影子变量为0，更新后的影子变量为: 0.1*0+0.9*5=4.5\n",
    "    sess.run(maintain_averages_op)\n",
    "    print(sess.run([v, ema.average(v)]))\n",
    "    \n",
    "    # 赋值更新\n",
    "    sess.run(tf.assign(v, 10))\n",
    "    sess.run(maintain_averages_op)\n",
    "    print(sess.run([v, ema.average(v)]))"
   ]
  }
 ],
 "metadata": {
  "kernelspec": {
   "display_name": "Python 3",
   "language": "python",
   "name": "python3"
  },
  "language_info": {
   "codemirror_mode": {
    "name": "ipython",
    "version": 3
   },
   "file_extension": ".py",
   "mimetype": "text/x-python",
   "name": "python",
   "nbconvert_exporter": "python",
   "pygments_lexer": "ipython3",
   "version": "3.7.3"
  }
 },
 "nbformat": 4,
 "nbformat_minor": 2
}
